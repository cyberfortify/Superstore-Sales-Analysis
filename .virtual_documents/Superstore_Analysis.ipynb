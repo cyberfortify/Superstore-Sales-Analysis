








import pandas as pd
import numpy as np


df = pd.read_csv("samplesuperstore.csv")
df.head()


print("The shape of Dataset is ",df.shape, "\n")
df.info()
print("\nDuplicates entries present: ",df.duplicated().sum())


df.columns.tolist()


df.isnull().sum()





df_cleaned = df.drop(columns=[
    '记录数', 'Row.ID', 'Market2', 'Customer.ID', 'Product.ID'
]) # Drop unnecessary columns
df_cleaned.columns.tolist()


df_cleaned['Order.Date'] = pd.to_datetime(df_cleaned['Order.Date']) # Convert date columns
df_cleaned['Ship.Date'] = pd.to_datetime(df_cleaned['Ship.Date']) # Convert date columns


print("Duplicates:", df_cleaned.duplicated().sum()) # Check for null values

df_cleaned = df_cleaned.drop_duplicates()


df_cleaned.info()
df_cleaned.head()


df_cleaned.shape





import matplotlib.pyplot as plt
import seaborn as sns





category_sales = df_cleaned.groupby('Category')['Sales'].sum().sort_values(ascending=False)

sns.barplot(x = category_sales.values, y = category_sales.index, palette='viridis')
plt.title("Total Sales by Category")
plt.xlabel("Sales")
plt.ylabel("Category")
plt.show()





subcategory_sales = df_cleaned.groupby('Sub.Category')['Sales'].sum().sort_values(ascending=False)

sns.barplot(x = subcategory_sales.values, y = subcategory_sales.index)
plt.title("Total sales by sub category")
plt.xlabel("Sales")
plt.ylabel("Sub Category")
plt.show()





sns.scatterplot(data=df_cleaned, x="Sales", y="Profit")
plt.title("Profit by Region")
plt.xlabel("Region")
plt.ylabel("Profit")
plt.show()





loss_by_state = df_cleaned.groupby('State')['Profit'].sum().sort_values()

top_loss_states = loss_by_state.head(10)

plt.figure(figsize=(10,5))
sns.barplot(x=top_loss_states.values, y=top_loss_states.index, palette='Reds')
plt.title("Top 10 States by Loss")
plt.xlabel("Total Profit")
plt.ylabel("State")
plt.show()





ship_mode = df_cleaned['Ship.Mode'].value_counts()

sns.barplot(x=ship_mode.values, y=ship_mode.index, palette='Set2')
plt.title("Shipping Mode Preference")
plt.xlabel("Orders Count")
plt.ylabel("Shipping Mode")
plt.show()












