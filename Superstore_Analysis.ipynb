{
 "cells": [
  {
   "cell_type": "markdown",
   "id": "64c90e4a-8dfe-4dfc-96d4-6aaa1b2d07d3",
   "metadata": {},
   "source": [
    "# 🛒 Superstore Sales Data Analysis\n",
    "### 📊 A Business Intelligence Project by Aditya"
   ]
  },
  {
   "cell_type": "markdown",
   "id": "74212c64-8219-40f2-bfc4-a400f0fbdcea",
   "metadata": {},
   "source": [
    "## 🔍 Introduction\n",
    "\n",
    "This project analyzes retail sales data from a global superstore. The goal is to identify trends, highlight problem areas, and derive actionable insights that can support business decisions.\n",
    "\n",
    "**Objectives:**\n",
    "- Clean and preprocess the dataset.\n",
    "- Perform exploratory data analysis.\n",
    "- Identify key performance drivers and loss areas.\n",
    "- Provide business recommendations.\n"
   ]
  },
  {
   "cell_type": "markdown",
   "id": "3f017a6f-36e9-40c6-9608-2c9a95f1dda8",
   "metadata": {},
   "source": [
    "## 📂 Dataset Overview\n",
    "\n",
    "- Source: [Kaggle - Sample Superstore Dataset](https://www.kaggle.com/datasets/benroshan/sample-superstore)\n",
    "- Records: 9,994\n",
    "- Features: Customer, Order, Product, and Sales Info"
   ]
  },
  {
   "cell_type": "code",
   "execution_count": 1,
   "id": "9f048a56-6bc6-40c2-a7b5-fcccbe1ab7cc",
   "metadata": {},
   "outputs": [],
   "source": [
    "import pandas as pd\n",
    "import numpy as np"
   ]
  },
  {
   "cell_type": "code",
   "execution_count": 2,
   "id": "08c845eb-6921-4332-9ced-1726d44eb1f1",
   "metadata": {},
   "outputs": [
    {
     "data": {
      "text/html": [
       "<div>\n",
       "<style scoped>\n",
       "    .dataframe tbody tr th:only-of-type {\n",
       "        vertical-align: middle;\n",
       "    }\n",
       "\n",
       "    .dataframe tbody tr th {\n",
       "        vertical-align: top;\n",
       "    }\n",
       "\n",
       "    .dataframe thead th {\n",
       "        text-align: right;\n",
       "    }\n",
       "</style>\n",
       "<table border=\"1\" class=\"dataframe\">\n",
       "  <thead>\n",
       "    <tr style=\"text-align: right;\">\n",
       "      <th></th>\n",
       "      <th>Category</th>\n",
       "      <th>City</th>\n",
       "      <th>Country</th>\n",
       "      <th>Customer.ID</th>\n",
       "      <th>Customer.Name</th>\n",
       "      <th>Discount</th>\n",
       "      <th>Market</th>\n",
       "      <th>记录数</th>\n",
       "      <th>Order.Date</th>\n",
       "      <th>Order.ID</th>\n",
       "      <th>...</th>\n",
       "      <th>Sales</th>\n",
       "      <th>Segment</th>\n",
       "      <th>Ship.Date</th>\n",
       "      <th>Ship.Mode</th>\n",
       "      <th>Shipping.Cost</th>\n",
       "      <th>State</th>\n",
       "      <th>Sub.Category</th>\n",
       "      <th>Year</th>\n",
       "      <th>Market2</th>\n",
       "      <th>weeknum</th>\n",
       "    </tr>\n",
       "  </thead>\n",
       "  <tbody>\n",
       "    <tr>\n",
       "      <th>0</th>\n",
       "      <td>Office Supplies</td>\n",
       "      <td>Los Angeles</td>\n",
       "      <td>United States</td>\n",
       "      <td>LS-172304</td>\n",
       "      <td>Lycoris Saunders</td>\n",
       "      <td>0.0</td>\n",
       "      <td>US</td>\n",
       "      <td>1</td>\n",
       "      <td>2011-01-07 00:00:00.000</td>\n",
       "      <td>CA-2011-130813</td>\n",
       "      <td>...</td>\n",
       "      <td>19</td>\n",
       "      <td>Consumer</td>\n",
       "      <td>2011-01-09 00:00:00.000</td>\n",
       "      <td>Second Class</td>\n",
       "      <td>4.37</td>\n",
       "      <td>California</td>\n",
       "      <td>Paper</td>\n",
       "      <td>2011</td>\n",
       "      <td>North America</td>\n",
       "      <td>2</td>\n",
       "    </tr>\n",
       "    <tr>\n",
       "      <th>1</th>\n",
       "      <td>Office Supplies</td>\n",
       "      <td>Los Angeles</td>\n",
       "      <td>United States</td>\n",
       "      <td>MV-174854</td>\n",
       "      <td>Mark Van Huff</td>\n",
       "      <td>0.0</td>\n",
       "      <td>US</td>\n",
       "      <td>1</td>\n",
       "      <td>2011-01-21 00:00:00.000</td>\n",
       "      <td>CA-2011-148614</td>\n",
       "      <td>...</td>\n",
       "      <td>19</td>\n",
       "      <td>Consumer</td>\n",
       "      <td>2011-01-26 00:00:00.000</td>\n",
       "      <td>Standard Class</td>\n",
       "      <td>0.94</td>\n",
       "      <td>California</td>\n",
       "      <td>Paper</td>\n",
       "      <td>2011</td>\n",
       "      <td>North America</td>\n",
       "      <td>4</td>\n",
       "    </tr>\n",
       "    <tr>\n",
       "      <th>2</th>\n",
       "      <td>Office Supplies</td>\n",
       "      <td>Los Angeles</td>\n",
       "      <td>United States</td>\n",
       "      <td>CS-121304</td>\n",
       "      <td>Chad Sievert</td>\n",
       "      <td>0.0</td>\n",
       "      <td>US</td>\n",
       "      <td>1</td>\n",
       "      <td>2011-08-05 00:00:00.000</td>\n",
       "      <td>CA-2011-118962</td>\n",
       "      <td>...</td>\n",
       "      <td>21</td>\n",
       "      <td>Consumer</td>\n",
       "      <td>2011-08-09 00:00:00.000</td>\n",
       "      <td>Standard Class</td>\n",
       "      <td>1.81</td>\n",
       "      <td>California</td>\n",
       "      <td>Paper</td>\n",
       "      <td>2011</td>\n",
       "      <td>North America</td>\n",
       "      <td>32</td>\n",
       "    </tr>\n",
       "    <tr>\n",
       "      <th>3</th>\n",
       "      <td>Office Supplies</td>\n",
       "      <td>Los Angeles</td>\n",
       "      <td>United States</td>\n",
       "      <td>CS-121304</td>\n",
       "      <td>Chad Sievert</td>\n",
       "      <td>0.0</td>\n",
       "      <td>US</td>\n",
       "      <td>1</td>\n",
       "      <td>2011-08-05 00:00:00.000</td>\n",
       "      <td>CA-2011-118962</td>\n",
       "      <td>...</td>\n",
       "      <td>111</td>\n",
       "      <td>Consumer</td>\n",
       "      <td>2011-08-09 00:00:00.000</td>\n",
       "      <td>Standard Class</td>\n",
       "      <td>4.59</td>\n",
       "      <td>California</td>\n",
       "      <td>Paper</td>\n",
       "      <td>2011</td>\n",
       "      <td>North America</td>\n",
       "      <td>32</td>\n",
       "    </tr>\n",
       "    <tr>\n",
       "      <th>4</th>\n",
       "      <td>Office Supplies</td>\n",
       "      <td>Los Angeles</td>\n",
       "      <td>United States</td>\n",
       "      <td>AP-109154</td>\n",
       "      <td>Arthur Prichep</td>\n",
       "      <td>0.0</td>\n",
       "      <td>US</td>\n",
       "      <td>1</td>\n",
       "      <td>2011-09-29 00:00:00.000</td>\n",
       "      <td>CA-2011-146969</td>\n",
       "      <td>...</td>\n",
       "      <td>6</td>\n",
       "      <td>Consumer</td>\n",
       "      <td>2011-10-03 00:00:00.000</td>\n",
       "      <td>Standard Class</td>\n",
       "      <td>1.32</td>\n",
       "      <td>California</td>\n",
       "      <td>Paper</td>\n",
       "      <td>2011</td>\n",
       "      <td>North America</td>\n",
       "      <td>40</td>\n",
       "    </tr>\n",
       "  </tbody>\n",
       "</table>\n",
       "<p>5 rows × 27 columns</p>\n",
       "</div>"
      ],
      "text/plain": [
       "          Category         City        Country Customer.ID     Customer.Name  \\\n",
       "0  Office Supplies  Los Angeles  United States   LS-172304  Lycoris Saunders   \n",
       "1  Office Supplies  Los Angeles  United States   MV-174854     Mark Van Huff   \n",
       "2  Office Supplies  Los Angeles  United States   CS-121304      Chad Sievert   \n",
       "3  Office Supplies  Los Angeles  United States   CS-121304      Chad Sievert   \n",
       "4  Office Supplies  Los Angeles  United States   AP-109154    Arthur Prichep   \n",
       "\n",
       "   Discount Market  记录数               Order.Date        Order.ID  ... Sales  \\\n",
       "0       0.0     US    1  2011-01-07 00:00:00.000  CA-2011-130813  ...    19   \n",
       "1       0.0     US    1  2011-01-21 00:00:00.000  CA-2011-148614  ...    19   \n",
       "2       0.0     US    1  2011-08-05 00:00:00.000  CA-2011-118962  ...    21   \n",
       "3       0.0     US    1  2011-08-05 00:00:00.000  CA-2011-118962  ...   111   \n",
       "4       0.0     US    1  2011-09-29 00:00:00.000  CA-2011-146969  ...     6   \n",
       "\n",
       "    Segment                Ship.Date       Ship.Mode  Shipping.Cost  \\\n",
       "0  Consumer  2011-01-09 00:00:00.000    Second Class           4.37   \n",
       "1  Consumer  2011-01-26 00:00:00.000  Standard Class           0.94   \n",
       "2  Consumer  2011-08-09 00:00:00.000  Standard Class           1.81   \n",
       "3  Consumer  2011-08-09 00:00:00.000  Standard Class           4.59   \n",
       "4  Consumer  2011-10-03 00:00:00.000  Standard Class           1.32   \n",
       "\n",
       "        State  Sub.Category  Year        Market2 weeknum  \n",
       "0  California         Paper  2011  North America       2  \n",
       "1  California         Paper  2011  North America       4  \n",
       "2  California         Paper  2011  North America      32  \n",
       "3  California         Paper  2011  North America      32  \n",
       "4  California         Paper  2011  North America      40  \n",
       "\n",
       "[5 rows x 27 columns]"
      ]
     },
     "execution_count": 2,
     "metadata": {},
     "output_type": "execute_result"
    }
   ],
   "source": [
    "df = pd.read_csv(\"samplesuperstore.csv\")\n",
    "df.head()"
   ]
  },
  {
   "cell_type": "code",
   "execution_count": 3,
   "id": "e5fe0d5c-a363-4f4b-a41f-14511f2d4e74",
   "metadata": {},
   "outputs": [
    {
     "name": "stdout",
     "output_type": "stream",
     "text": [
      "The shape of Dataset is  (51290, 27) \n",
      "\n",
      "<class 'pandas.core.frame.DataFrame'>\n",
      "RangeIndex: 51290 entries, 0 to 51289\n",
      "Data columns (total 27 columns):\n",
      " #   Column          Non-Null Count  Dtype  \n",
      "---  ------          --------------  -----  \n",
      " 0   Category        51290 non-null  object \n",
      " 1   City            51290 non-null  object \n",
      " 2   Country         51290 non-null  object \n",
      " 3   Customer.ID     51290 non-null  object \n",
      " 4   Customer.Name   51290 non-null  object \n",
      " 5   Discount        51290 non-null  float64\n",
      " 6   Market          51290 non-null  object \n",
      " 7   记录数             51290 non-null  int64  \n",
      " 8   Order.Date      51290 non-null  object \n",
      " 9   Order.ID        51290 non-null  object \n",
      " 10  Order.Priority  51290 non-null  object \n",
      " 11  Product.ID      51290 non-null  object \n",
      " 12  Product.Name    51290 non-null  object \n",
      " 13  Profit          51290 non-null  float64\n",
      " 14  Quantity        51290 non-null  int64  \n",
      " 15  Region          51290 non-null  object \n",
      " 16  Row.ID          51290 non-null  int64  \n",
      " 17  Sales           51290 non-null  int64  \n",
      " 18  Segment         51290 non-null  object \n",
      " 19  Ship.Date       51290 non-null  object \n",
      " 20  Ship.Mode       51290 non-null  object \n",
      " 21  Shipping.Cost   51290 non-null  float64\n",
      " 22  State           51290 non-null  object \n",
      " 23  Sub.Category    51290 non-null  object \n",
      " 24  Year            51290 non-null  int64  \n",
      " 25  Market2         51290 non-null  object \n",
      " 26  weeknum         51290 non-null  int64  \n",
      "dtypes: float64(3), int64(6), object(18)\n",
      "memory usage: 10.6+ MB\n",
      "\n",
      "Duplicates entries present:  0\n"
     ]
    }
   ],
   "source": [
    "print(\"The shape of Dataset is \",df.shape, \"\\n\")\n",
    "df.info()\n",
    "print(\"\\nDuplicates entries present: \",df.duplicated().sum())"
   ]
  },
  {
   "cell_type": "code",
   "execution_count": 4,
   "id": "40c8bab4-d956-47ab-b161-eb91ab66736b",
   "metadata": {},
   "outputs": [
    {
     "data": {
      "text/plain": [
       "['Category',\n",
       " 'City',\n",
       " 'Country',\n",
       " 'Customer.ID',\n",
       " 'Customer.Name',\n",
       " 'Discount',\n",
       " 'Market',\n",
       " '记录数',\n",
       " 'Order.Date',\n",
       " 'Order.ID',\n",
       " 'Order.Priority',\n",
       " 'Product.ID',\n",
       " 'Product.Name',\n",
       " 'Profit',\n",
       " 'Quantity',\n",
       " 'Region',\n",
       " 'Row.ID',\n",
       " 'Sales',\n",
       " 'Segment',\n",
       " 'Ship.Date',\n",
       " 'Ship.Mode',\n",
       " 'Shipping.Cost',\n",
       " 'State',\n",
       " 'Sub.Category',\n",
       " 'Year',\n",
       " 'Market2',\n",
       " 'weeknum']"
      ]
     },
     "execution_count": 4,
     "metadata": {},
     "output_type": "execute_result"
    }
   ],
   "source": [
    "df.columns.tolist()"
   ]
  },
  {
   "cell_type": "code",
   "execution_count": 5,
   "id": "b9065b55-e66e-4b87-b3ed-ca1e46c9995a",
   "metadata": {},
   "outputs": [
    {
     "data": {
      "text/plain": [
       "Category          0\n",
       "City              0\n",
       "Country           0\n",
       "Customer.ID       0\n",
       "Customer.Name     0\n",
       "Discount          0\n",
       "Market            0\n",
       "记录数               0\n",
       "Order.Date        0\n",
       "Order.ID          0\n",
       "Order.Priority    0\n",
       "Product.ID        0\n",
       "Product.Name      0\n",
       "Profit            0\n",
       "Quantity          0\n",
       "Region            0\n",
       "Row.ID            0\n",
       "Sales             0\n",
       "Segment           0\n",
       "Ship.Date         0\n",
       "Ship.Mode         0\n",
       "Shipping.Cost     0\n",
       "State             0\n",
       "Sub.Category      0\n",
       "Year              0\n",
       "Market2           0\n",
       "weeknum           0\n",
       "dtype: int64"
      ]
     },
     "execution_count": 5,
     "metadata": {},
     "output_type": "execute_result"
    }
   ],
   "source": [
    "df.isnull().sum()"
   ]
  },
  {
   "cell_type": "markdown",
   "id": "b6fcd3ca-38ea-48df-b602-d8fb4ab42d3d",
   "metadata": {},
   "source": [
    "## 🧹 Data Cleaning & Preprocessing\n",
    "\n",
    "- Dropped unused columns: Row ID, etc.\n",
    "- Handled duplicate entries\n",
    "- Converted date columns to datetime\n",
    "- Verified null values"
   ]
  },
  {
   "cell_type": "code",
   "execution_count": 6,
   "id": "99dd3402-122a-4e83-b1ba-110263baf5ab",
   "metadata": {},
   "outputs": [
    {
     "data": {
      "text/plain": [
       "['Category',\n",
       " 'City',\n",
       " 'Country',\n",
       " 'Customer.Name',\n",
       " 'Discount',\n",
       " 'Market',\n",
       " 'Order.Date',\n",
       " 'Order.ID',\n",
       " 'Order.Priority',\n",
       " 'Product.Name',\n",
       " 'Profit',\n",
       " 'Quantity',\n",
       " 'Region',\n",
       " 'Sales',\n",
       " 'Segment',\n",
       " 'Ship.Date',\n",
       " 'Ship.Mode',\n",
       " 'Shipping.Cost',\n",
       " 'State',\n",
       " 'Sub.Category',\n",
       " 'Year',\n",
       " 'weeknum']"
      ]
     },
     "execution_count": 6,
     "metadata": {},
     "output_type": "execute_result"
    }
   ],
   "source": [
    "df_cleaned = df.drop(columns=[\n",
    "    '记录数', 'Row.ID', 'Market2', 'Customer.ID', 'Product.ID'\n",
    "]) # Drop unnecessary columns\n",
    "df_cleaned.columns.tolist()"
   ]
  },
  {
   "cell_type": "code",
   "execution_count": 7,
   "id": "8860e0ce-d5ce-4125-b804-9cf64d375133",
   "metadata": {},
   "outputs": [],
   "source": [
    "df_cleaned['Order.Date'] = pd.to_datetime(df_cleaned['Order.Date']) # Convert date columns\n",
    "df_cleaned['Ship.Date'] = pd.to_datetime(df_cleaned['Ship.Date']) # Convert date columns"
   ]
  },
  {
   "cell_type": "code",
   "execution_count": 8,
   "id": "4e4c41dc-1602-47de-9684-2a68280accc7",
   "metadata": {},
   "outputs": [
    {
     "name": "stdout",
     "output_type": "stream",
     "text": [
      "Duplicates: 0\n"
     ]
    }
   ],
   "source": [
    "print(\"Duplicates:\", df_cleaned.duplicated().sum()) # Check for null values\n",
    "\n",
    "df_cleaned = df_cleaned.drop_duplicates()"
   ]
  },
  {
   "cell_type": "code",
   "execution_count": 9,
   "id": "6226fde4-0df6-443d-9604-80eba40c3895",
   "metadata": {},
   "outputs": [
    {
     "name": "stdout",
     "output_type": "stream",
     "text": [
      "<class 'pandas.core.frame.DataFrame'>\n",
      "RangeIndex: 51290 entries, 0 to 51289\n",
      "Data columns (total 22 columns):\n",
      " #   Column          Non-Null Count  Dtype         \n",
      "---  ------          --------------  -----         \n",
      " 0   Category        51290 non-null  object        \n",
      " 1   City            51290 non-null  object        \n",
      " 2   Country         51290 non-null  object        \n",
      " 3   Customer.Name   51290 non-null  object        \n",
      " 4   Discount        51290 non-null  float64       \n",
      " 5   Market          51290 non-null  object        \n",
      " 6   Order.Date      51290 non-null  datetime64[ns]\n",
      " 7   Order.ID        51290 non-null  object        \n",
      " 8   Order.Priority  51290 non-null  object        \n",
      " 9   Product.Name    51290 non-null  object        \n",
      " 10  Profit          51290 non-null  float64       \n",
      " 11  Quantity        51290 non-null  int64         \n",
      " 12  Region          51290 non-null  object        \n",
      " 13  Sales           51290 non-null  int64         \n",
      " 14  Segment         51290 non-null  object        \n",
      " 15  Ship.Date       51290 non-null  datetime64[ns]\n",
      " 16  Ship.Mode       51290 non-null  object        \n",
      " 17  Shipping.Cost   51290 non-null  float64       \n",
      " 18  State           51290 non-null  object        \n",
      " 19  Sub.Category    51290 non-null  object        \n",
      " 20  Year            51290 non-null  int64         \n",
      " 21  weeknum         51290 non-null  int64         \n",
      "dtypes: datetime64[ns](2), float64(3), int64(4), object(13)\n",
      "memory usage: 8.6+ MB\n"
     ]
    },
    {
     "data": {
      "text/html": [
       "<div>\n",
       "<style scoped>\n",
       "    .dataframe tbody tr th:only-of-type {\n",
       "        vertical-align: middle;\n",
       "    }\n",
       "\n",
       "    .dataframe tbody tr th {\n",
       "        vertical-align: top;\n",
       "    }\n",
       "\n",
       "    .dataframe thead th {\n",
       "        text-align: right;\n",
       "    }\n",
       "</style>\n",
       "<table border=\"1\" class=\"dataframe\">\n",
       "  <thead>\n",
       "    <tr style=\"text-align: right;\">\n",
       "      <th></th>\n",
       "      <th>Category</th>\n",
       "      <th>City</th>\n",
       "      <th>Country</th>\n",
       "      <th>Customer.Name</th>\n",
       "      <th>Discount</th>\n",
       "      <th>Market</th>\n",
       "      <th>Order.Date</th>\n",
       "      <th>Order.ID</th>\n",
       "      <th>Order.Priority</th>\n",
       "      <th>Product.Name</th>\n",
       "      <th>...</th>\n",
       "      <th>Region</th>\n",
       "      <th>Sales</th>\n",
       "      <th>Segment</th>\n",
       "      <th>Ship.Date</th>\n",
       "      <th>Ship.Mode</th>\n",
       "      <th>Shipping.Cost</th>\n",
       "      <th>State</th>\n",
       "      <th>Sub.Category</th>\n",
       "      <th>Year</th>\n",
       "      <th>weeknum</th>\n",
       "    </tr>\n",
       "  </thead>\n",
       "  <tbody>\n",
       "    <tr>\n",
       "      <th>0</th>\n",
       "      <td>Office Supplies</td>\n",
       "      <td>Los Angeles</td>\n",
       "      <td>United States</td>\n",
       "      <td>Lycoris Saunders</td>\n",
       "      <td>0.0</td>\n",
       "      <td>US</td>\n",
       "      <td>2011-01-07</td>\n",
       "      <td>CA-2011-130813</td>\n",
       "      <td>High</td>\n",
       "      <td>Xerox 225</td>\n",
       "      <td>...</td>\n",
       "      <td>West</td>\n",
       "      <td>19</td>\n",
       "      <td>Consumer</td>\n",
       "      <td>2011-01-09</td>\n",
       "      <td>Second Class</td>\n",
       "      <td>4.37</td>\n",
       "      <td>California</td>\n",
       "      <td>Paper</td>\n",
       "      <td>2011</td>\n",
       "      <td>2</td>\n",
       "    </tr>\n",
       "    <tr>\n",
       "      <th>1</th>\n",
       "      <td>Office Supplies</td>\n",
       "      <td>Los Angeles</td>\n",
       "      <td>United States</td>\n",
       "      <td>Mark Van Huff</td>\n",
       "      <td>0.0</td>\n",
       "      <td>US</td>\n",
       "      <td>2011-01-21</td>\n",
       "      <td>CA-2011-148614</td>\n",
       "      <td>Medium</td>\n",
       "      <td>Wirebound Service Call Books, 5 1/2\" x 4\"</td>\n",
       "      <td>...</td>\n",
       "      <td>West</td>\n",
       "      <td>19</td>\n",
       "      <td>Consumer</td>\n",
       "      <td>2011-01-26</td>\n",
       "      <td>Standard Class</td>\n",
       "      <td>0.94</td>\n",
       "      <td>California</td>\n",
       "      <td>Paper</td>\n",
       "      <td>2011</td>\n",
       "      <td>4</td>\n",
       "    </tr>\n",
       "    <tr>\n",
       "      <th>2</th>\n",
       "      <td>Office Supplies</td>\n",
       "      <td>Los Angeles</td>\n",
       "      <td>United States</td>\n",
       "      <td>Chad Sievert</td>\n",
       "      <td>0.0</td>\n",
       "      <td>US</td>\n",
       "      <td>2011-08-05</td>\n",
       "      <td>CA-2011-118962</td>\n",
       "      <td>Medium</td>\n",
       "      <td>Adams Phone Message Book, Professional, 400 Me...</td>\n",
       "      <td>...</td>\n",
       "      <td>West</td>\n",
       "      <td>21</td>\n",
       "      <td>Consumer</td>\n",
       "      <td>2011-08-09</td>\n",
       "      <td>Standard Class</td>\n",
       "      <td>1.81</td>\n",
       "      <td>California</td>\n",
       "      <td>Paper</td>\n",
       "      <td>2011</td>\n",
       "      <td>32</td>\n",
       "    </tr>\n",
       "    <tr>\n",
       "      <th>3</th>\n",
       "      <td>Office Supplies</td>\n",
       "      <td>Los Angeles</td>\n",
       "      <td>United States</td>\n",
       "      <td>Chad Sievert</td>\n",
       "      <td>0.0</td>\n",
       "      <td>US</td>\n",
       "      <td>2011-08-05</td>\n",
       "      <td>CA-2011-118962</td>\n",
       "      <td>Medium</td>\n",
       "      <td>Xerox 1913</td>\n",
       "      <td>...</td>\n",
       "      <td>West</td>\n",
       "      <td>111</td>\n",
       "      <td>Consumer</td>\n",
       "      <td>2011-08-09</td>\n",
       "      <td>Standard Class</td>\n",
       "      <td>4.59</td>\n",
       "      <td>California</td>\n",
       "      <td>Paper</td>\n",
       "      <td>2011</td>\n",
       "      <td>32</td>\n",
       "    </tr>\n",
       "    <tr>\n",
       "      <th>4</th>\n",
       "      <td>Office Supplies</td>\n",
       "      <td>Los Angeles</td>\n",
       "      <td>United States</td>\n",
       "      <td>Arthur Prichep</td>\n",
       "      <td>0.0</td>\n",
       "      <td>US</td>\n",
       "      <td>2011-09-29</td>\n",
       "      <td>CA-2011-146969</td>\n",
       "      <td>High</td>\n",
       "      <td>Xerox 223</td>\n",
       "      <td>...</td>\n",
       "      <td>West</td>\n",
       "      <td>6</td>\n",
       "      <td>Consumer</td>\n",
       "      <td>2011-10-03</td>\n",
       "      <td>Standard Class</td>\n",
       "      <td>1.32</td>\n",
       "      <td>California</td>\n",
       "      <td>Paper</td>\n",
       "      <td>2011</td>\n",
       "      <td>40</td>\n",
       "    </tr>\n",
       "  </tbody>\n",
       "</table>\n",
       "<p>5 rows × 22 columns</p>\n",
       "</div>"
      ],
      "text/plain": [
       "          Category         City        Country     Customer.Name  Discount  \\\n",
       "0  Office Supplies  Los Angeles  United States  Lycoris Saunders       0.0   \n",
       "1  Office Supplies  Los Angeles  United States     Mark Van Huff       0.0   \n",
       "2  Office Supplies  Los Angeles  United States      Chad Sievert       0.0   \n",
       "3  Office Supplies  Los Angeles  United States      Chad Sievert       0.0   \n",
       "4  Office Supplies  Los Angeles  United States    Arthur Prichep       0.0   \n",
       "\n",
       "  Market Order.Date        Order.ID Order.Priority  \\\n",
       "0     US 2011-01-07  CA-2011-130813           High   \n",
       "1     US 2011-01-21  CA-2011-148614         Medium   \n",
       "2     US 2011-08-05  CA-2011-118962         Medium   \n",
       "3     US 2011-08-05  CA-2011-118962         Medium   \n",
       "4     US 2011-09-29  CA-2011-146969           High   \n",
       "\n",
       "                                        Product.Name  ...  Region  Sales  \\\n",
       "0                                          Xerox 225  ...    West     19   \n",
       "1          Wirebound Service Call Books, 5 1/2\" x 4\"  ...    West     19   \n",
       "2  Adams Phone Message Book, Professional, 400 Me...  ...    West     21   \n",
       "3                                         Xerox 1913  ...    West    111   \n",
       "4                                          Xerox 223  ...    West      6   \n",
       "\n",
       "    Segment  Ship.Date       Ship.Mode Shipping.Cost       State  \\\n",
       "0  Consumer 2011-01-09    Second Class          4.37  California   \n",
       "1  Consumer 2011-01-26  Standard Class          0.94  California   \n",
       "2  Consumer 2011-08-09  Standard Class          1.81  California   \n",
       "3  Consumer 2011-08-09  Standard Class          4.59  California   \n",
       "4  Consumer 2011-10-03  Standard Class          1.32  California   \n",
       "\n",
       "   Sub.Category  Year weeknum  \n",
       "0         Paper  2011       2  \n",
       "1         Paper  2011       4  \n",
       "2         Paper  2011      32  \n",
       "3         Paper  2011      32  \n",
       "4         Paper  2011      40  \n",
       "\n",
       "[5 rows x 22 columns]"
      ]
     },
     "execution_count": 9,
     "metadata": {},
     "output_type": "execute_result"
    }
   ],
   "source": [
    "df_cleaned.info()\n",
    "df_cleaned.head()"
   ]
  },
  {
   "cell_type": "code",
   "execution_count": 10,
   "id": "78315b32-bd5c-425a-b0a5-542d7a36510d",
   "metadata": {},
   "outputs": [
    {
     "data": {
      "text/plain": [
       "(51290, 22)"
      ]
     },
     "execution_count": 10,
     "metadata": {},
     "output_type": "execute_result"
    }
   ],
   "source": [
    "df_cleaned.shape"
   ]
  },
  {
   "cell_type": "markdown",
   "id": "91382ef0-acaa-4806-b5fb-76c6941f9370",
   "metadata": {},
   "source": [
    "## 📊 Exploratory Data Analysis (EDA)"
   ]
  },
  {
   "cell_type": "code",
   "execution_count": 11,
   "id": "2827099c-d8f3-4069-ba00-691a9b29f4f8",
   "metadata": {},
   "outputs": [],
   "source": [
    "import matplotlib.pyplot as plt\n",
    "import seaborn as sns"
   ]
  },
  {
   "cell_type": "markdown",
   "id": "6fb050a9-699e-43a8-95c5-5b4a4a52ab16",
   "metadata": {},
   "source": [
    "### 🛍️ Sales by Category\n",
    "\n",
    "Technology leads in sales, followed by Furniture and Office Supplies."
   ]
  },
  {
   "cell_type": "code",
   "execution_count": 12,
   "id": "f663d0c0-3f68-4093-b95a-8906d91dd7d2",
   "metadata": {},
   "outputs": [
    {
     "name": "stderr",
     "output_type": "stream",
     "text": [
      "C:\\Users\\Aditya\\AppData\\Local\\Temp\\ipykernel_12544\\665555327.py:3: FutureWarning: \n",
      "\n",
      "Passing `palette` without assigning `hue` is deprecated and will be removed in v0.14.0. Assign the `y` variable to `hue` and set `legend=False` for the same effect.\n",
      "\n",
      "  sns.barplot(x = category_sales.values, y = category_sales.index, palette='viridis')\n"
     ]
    },
    {
     "data": {
      "image/png": "[encoded data removed]",
      "text/plain": [
       "<Figure size 640x480 with 1 Axes>"
      ]
     },
     "metadata": {},
     "output_type": "display_data"
    }
   ],
   "source": [
    "category_sales = df_cleaned.groupby('Category')['Sales'].sum().sort_values(ascending=False)\n",
    "\n",
    "sns.barplot(x = category_sales.values, y = category_sales.index, palette='viridis')\n",
    "plt.title(\"Total Sales by Category\")\n",
    "plt.xlabel(\"Sales\")\n",
    "plt.ylabel(\"Category\")\n",
    "plt.show()"
   ]
  },
  {
   "cell_type": "markdown",
   "id": "24fb0dfa-fab3-47b0-8cbc-17d813e3cda2",
   "metadata": {},
   "source": [
    "### 📦 Sales by Sub-Category\n",
    "\n",
    "Chairs and Phones generate the highest revenue among sub-categories."
   ]
  },
  {
   "cell_type": "code",
   "execution_count": 13,
   "id": "bb07c752-0853-4498-a991-7a5f12389f8f",
   "metadata": {},
   "outputs": [
    {
     "data": {
      "image/png": "[encoded data removed]",
      "text/plain": [
       "<Figure size 640x480 with 1 Axes>"
      ]
     },
     "metadata": {},
     "output_type": "display_data"
    }
   ],
   "source": [
    "subcategory_sales = df_cleaned.groupby('Sub.Category')['Sales'].sum().sort_values(ascending=False)\n",
    "\n",
    "sns.barplot(x = subcategory_sales.values, y = subcategory_sales.index)\n",
    "plt.title(\"Total sales by sub category\")\n",
    "plt.xlabel(\"Sales\")\n",
    "plt.ylabel(\"Sub Category\")\n",
    "plt.show()"
   ]
  },
  {
   "cell_type": "markdown",
   "id": "d7665d0b-3b3f-4ac4-9b2d-1715b67d99dc",
   "metadata": {
    "jp-MarkdownHeadingCollapsed": true
   },
   "source": [
    "### 🌎 Profit by Region\n",
    "\n",
    "The West region is the most profitable, while the South region struggles with losses."
   ]
  },
  {
   "cell_type": "code",
   "execution_count": 20,
   "id": "9225409f-9c71-408c-9a94-21fb0227ce50",
   "metadata": {},
   "outputs": [
    {
     "data": {
      "image/png": "[encoded data removed]",
      "text/plain": [
       "<Figure size 640x480 with 1 Axes>"
      ]
     },
     "metadata": {},
     "output_type": "display_data"
    }
   ],
   "source": [
    "sns.scatterplot(data=df_cleaned, x=\"Sales\", y=\"Profit\")\n",
    "plt.title(\"Profit by Region\")\n",
    "plt.xlabel(\"Region\")\n",
    "plt.ylabel(\"Profit\")\n",
    "plt.show()"
   ]
  },
  {
   "cell_type": "markdown",
   "id": "15a0addc-31ef-4644-ac87-d4208d438e3e",
   "metadata": {},
   "source": [
    "### 🗺️ Top 10 States by Sales\n",
    "\n",
    "California and New York dominate the sales chart by a significant margin."
   ]
  },
  {
   "cell_type": "code",
   "execution_count": 15,
   "id": "ee35f13e-7797-494e-b18a-505310cb11fd",
   "metadata": {},
   "outputs": [
    {
     "name": "stderr",
     "output_type": "stream",
     "text": [
      "C:\\Users\\Aditya\\AppData\\Local\\Temp\\ipykernel_12544\\1003012740.py:6: FutureWarning: \n",
      "\n",
      "Passing `palette` without assigning `hue` is deprecated and will be removed in v0.14.0. Assign the `y` variable to `hue` and set `legend=False` for the same effect.\n",
      "\n",
      "  sns.barplot(x=top_loss_states.values, y=top_loss_states.index, palette='Reds')\n"
     ]
    },
    {
     "data": {
      "image/png": "[encoded data removed]",
      "text/plain": [
       "<Figure size 1000x500 with 1 Axes>"
      ]
     },
     "metadata": {},
     "output_type": "display_data"
    }
   ],
   "source": [
    "loss_by_state = df_cleaned.groupby('State')['Profit'].sum().sort_values()\n",
    "\n",
    "top_loss_states = loss_by_state.head(10)\n",
    "\n",
    "plt.figure(figsize=(10,5))\n",
    "sns.barplot(x=top_loss_states.values, y=top_loss_states.index, palette='Reds')\n",
    "plt.title(\"Top 10 States by Loss\")\n",
    "plt.xlabel(\"Total Profit\")\n",
    "plt.ylabel(\"State\")\n",
    "plt.show()"
   ]
  },
  {
   "cell_type": "markdown",
   "id": "887442e8-531e-49f3-a43e-58b6507a0c1c",
   "metadata": {},
   "source": [
    "### 🚚 Shipping Mode Analysis\n",
    "\n",
    "Standard Class is the most used mode of shipment."
   ]
  },
  {
   "cell_type": "code",
   "execution_count": 16,
   "id": "e5427fd4-3531-4395-ab07-eace94d45a9b",
   "metadata": {},
   "outputs": [
    {
     "name": "stderr",
     "output_type": "stream",
     "text": [
      "C:\\Users\\Aditya\\AppData\\Local\\Temp\\ipykernel_12544\\462649832.py:3: FutureWarning: \n",
      "\n",
      "Passing `palette` without assigning `hue` is deprecated and will be removed in v0.14.0. Assign the `y` variable to `hue` and set `legend=False` for the same effect.\n",
      "\n",
      "  sns.barplot(x=ship_mode.values, y=ship_mode.index, palette='Set2')\n"
     ]
    },
    {
     "data": {
      "image/png": "[encoded data removed]",
      "text/plain": [
       "<Figure size 640x480 with 1 Axes>"
      ]
     },
     "metadata": {},
     "output_type": "display_data"
    }
   ],
   "source": [
    "ship_mode = df_cleaned['Ship.Mode'].value_counts()\n",
    "\n",
    "sns.barplot(x=ship_mode.values, y=ship_mode.index, palette='Set2')\n",
    "plt.title(\"Shipping Mode Preference\")\n",
    "plt.xlabel(\"Orders Count\")\n",
    "plt.ylabel(\"Shipping Mode\")\n",
    "plt.show()"
   ]
  },
  {
   "cell_type": "markdown",
   "id": "3ad9b379-9089-41de-abee-dc0c364a1ebb",
   "metadata": {},
   "source": [
    "### 🔍 Key Insights:\n",
    "\n",
    "1. **Technology** category generated the highest sales, followed by Furniture and Office Supplies.\n",
    "2. The **Labels** sub-category incurred consistent losses despite moderate sales.\n",
    "3. Multiple states like **Texas**, **North Carolina**, and **Pennsylvania** reported negative total profits.\n",
    "4. The **Standard Class** shipping mode is most frequently used.\n",
    "5. Higher discounts often led to losses — indicating over-discounting may hurt profitability.\n"
   ]
  },
  {
   "cell_type": "markdown",
   "id": "9f289f09-bf39-40d9-87a1-a4dd1e0f3fcb",
   "metadata": {},
   "source": [
    "### 💼 Business Recommendations:\n",
    "\n",
    "1. Reduce discount rates for loss-making sub-categories like **Labels**.\n",
    "2. Reassess marketing and logistics strategies in **loss-heavy states**.\n",
    "3. Promote high-profit sub-categories in underperforming states.\n",
    "4. Evaluate shipping cost vs. profitability for **Standard Class**.\n",
    "5. Focus more on the **Technology** segment for scaling business revenue.\n"
   ]
  },
  {
   "cell_type": "markdown",
   "id": "4bf7baa4-800b-47fa-8f52-970ac377c646",
   "metadata": {},
   "source": [
    "## ✅ Conclusion\n",
    "\n",
    "This analysis helped uncover key drivers of profit and loss for the Superstore business.\n",
    "With data-driven strategies, the business can minimize losses and scale its most profitable categories."
   ]
  },
  {
   "cell_type": "code",
   "execution_count": null,
   "id": "fd24d5e2-69e0-4c7f-881e-20dcf852d12c",
   "metadata": {},
   "outputs": [],
   "source": []
  }
 ],
 "metadata": {
  "kernelspec": {
   "display_name": "Python 3 (ipykernel)",
   "language": "python",
   "name": "python3"
  },
  "language_info": {
   "codemirror_mode": {
    "name": "ipython",
    "version": 3
   },
   "file_extension": ".py",
   "mimetype": "text/x-python",
   "name": "python",
   "nbconvert_exporter": "python",
   "pygments_lexer": "ipython3",
   "version": "3.12.7"
  }
 },
 "nbformat": 4,
 "nbformat_minor": 5
}
